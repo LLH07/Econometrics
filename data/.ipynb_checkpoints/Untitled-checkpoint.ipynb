{
 "cells": [
  {
   "cell_type": "code",
   "execution_count": 5,
   "metadata": {},
   "outputs": [],
   "source": [
    "test = read.csv(\"89-108 年台中槍砲彈藥刀持有統計.csv\")"
   ]
  },
  {
   "cell_type": "code",
   "execution_count": 6,
   "metadata": {
    "scrolled": true
   },
   "outputs": [
    {
     "data": {
      "text/html": [
       "<table>\n",
       "<caption>A data.frame: 20 × 4</caption>\n",
       "<thead>\n",
       "\t<tr><th scope=col>嚜燕eriod</th><th scope=col>gun</th><th scope=col>gun.shot</th><th scope=col>knife</th></tr>\n",
       "\t<tr><th scope=col>&lt;int&gt;</th><th scope=col>&lt;int&gt;</th><th scope=col>&lt;chr&gt;</th><th scope=col>&lt;int&gt;</th></tr>\n",
       "</thead>\n",
       "<tbody>\n",
       "\t<tr><td> 89</td><td>274</td><td>2,604 </td><td> 78</td></tr>\n",
       "\t<tr><td> 90</td><td>338</td><td>4,212 </td><td> 64</td></tr>\n",
       "\t<tr><td> 91</td><td>345</td><td>2,823 </td><td> 32</td></tr>\n",
       "\t<tr><td> 92</td><td>370</td><td>4,044 </td><td>117</td></tr>\n",
       "\t<tr><td> 93</td><td>427</td><td>11,295</td><td> 67</td></tr>\n",
       "\t<tr><td> 94</td><td>374</td><td>2,600 </td><td>102</td></tr>\n",
       "\t<tr><td> 95</td><td>316</td><td>3,770 </td><td> 37</td></tr>\n",
       "\t<tr><td> 96</td><td>286</td><td>1,921 </td><td> 41</td></tr>\n",
       "\t<tr><td> 97</td><td>247</td><td>1,935 </td><td> 14</td></tr>\n",
       "\t<tr><td> 98</td><td>185</td><td>1,823 </td><td> 56</td></tr>\n",
       "\t<tr><td> 99</td><td>171</td><td>2,268 </td><td> 16</td></tr>\n",
       "\t<tr><td>100</td><td>167</td><td>1,456 </td><td> 25</td></tr>\n",
       "\t<tr><td>101</td><td>147</td><td>1,250 </td><td>  9</td></tr>\n",
       "\t<tr><td>102</td><td>157</td><td>1,726 </td><td> 11</td></tr>\n",
       "\t<tr><td>103</td><td>256</td><td>2,351 </td><td> 16</td></tr>\n",
       "\t<tr><td>104</td><td>196</td><td>3,081 </td><td> 11</td></tr>\n",
       "\t<tr><td>105</td><td>436</td><td>1,973 </td><td> 17</td></tr>\n",
       "\t<tr><td>106</td><td>195</td><td>5,071 </td><td> 12</td></tr>\n",
       "\t<tr><td>107</td><td>240</td><td>3,448 </td><td> 26</td></tr>\n",
       "\t<tr><td>108</td><td>136</td><td>1,598 </td><td>  4</td></tr>\n",
       "</tbody>\n",
       "</table>\n"
      ],
      "text/latex": [
       "A data.frame: 20 × 4\n",
       "\\begin{tabular}{llll}\n",
       " 嚜燕eriod & gun & gun.shot & knife\\\\\n",
       " <int> & <int> & <chr> & <int>\\\\\n",
       "\\hline\n",
       "\t  89 & 274 & 2,604  &  78\\\\\n",
       "\t  90 & 338 & 4,212  &  64\\\\\n",
       "\t  91 & 345 & 2,823  &  32\\\\\n",
       "\t  92 & 370 & 4,044  & 117\\\\\n",
       "\t  93 & 427 & 11,295 &  67\\\\\n",
       "\t  94 & 374 & 2,600  & 102\\\\\n",
       "\t  95 & 316 & 3,770  &  37\\\\\n",
       "\t  96 & 286 & 1,921  &  41\\\\\n",
       "\t  97 & 247 & 1,935  &  14\\\\\n",
       "\t  98 & 185 & 1,823  &  56\\\\\n",
       "\t  99 & 171 & 2,268  &  16\\\\\n",
       "\t 100 & 167 & 1,456  &  25\\\\\n",
       "\t 101 & 147 & 1,250  &   9\\\\\n",
       "\t 102 & 157 & 1,726  &  11\\\\\n",
       "\t 103 & 256 & 2,351  &  16\\\\\n",
       "\t 104 & 196 & 3,081  &  11\\\\\n",
       "\t 105 & 436 & 1,973  &  17\\\\\n",
       "\t 106 & 195 & 5,071  &  12\\\\\n",
       "\t 107 & 240 & 3,448  &  26\\\\\n",
       "\t 108 & 136 & 1,598  &   4\\\\\n",
       "\\end{tabular}\n"
      ],
      "text/markdown": [
       "\n",
       "A data.frame: 20 × 4\n",
       "\n",
       "| 嚜燕eriod &lt;int&gt; | gun &lt;int&gt; | gun.shot &lt;chr&gt; | knife &lt;int&gt; |\n",
       "|---|---|---|---|\n",
       "|  89 | 274 | 2,604  |  78 |\n",
       "|  90 | 338 | 4,212  |  64 |\n",
       "|  91 | 345 | 2,823  |  32 |\n",
       "|  92 | 370 | 4,044  | 117 |\n",
       "|  93 | 427 | 11,295 |  67 |\n",
       "|  94 | 374 | 2,600  | 102 |\n",
       "|  95 | 316 | 3,770  |  37 |\n",
       "|  96 | 286 | 1,921  |  41 |\n",
       "|  97 | 247 | 1,935  |  14 |\n",
       "|  98 | 185 | 1,823  |  56 |\n",
       "|  99 | 171 | 2,268  |  16 |\n",
       "| 100 | 167 | 1,456  |  25 |\n",
       "| 101 | 147 | 1,250  |   9 |\n",
       "| 102 | 157 | 1,726  |  11 |\n",
       "| 103 | 256 | 2,351  |  16 |\n",
       "| 104 | 196 | 3,081  |  11 |\n",
       "| 105 | 436 | 1,973  |  17 |\n",
       "| 106 | 195 | 5,071  |  12 |\n",
       "| 107 | 240 | 3,448  |  26 |\n",
       "| 108 | 136 | 1,598  |   4 |\n",
       "\n"
      ],
      "text/plain": [
       "   嚜燕eriod gun gun.shot knife\n",
       "1   89       274 2,604     78  \n",
       "2   90       338 4,212     64  \n",
       "3   91       345 2,823     32  \n",
       "4   92       370 4,044    117  \n",
       "5   93       427 11,295    67  \n",
       "6   94       374 2,600    102  \n",
       "7   95       316 3,770     37  \n",
       "8   96       286 1,921     41  \n",
       "9   97       247 1,935     14  \n",
       "10  98       185 1,823     56  \n",
       "11  99       171 2,268     16  \n",
       "12 100       167 1,456     25  \n",
       "13 101       147 1,250      9  \n",
       "14 102       157 1,726     11  \n",
       "15 103       256 2,351     16  \n",
       "16 104       196 3,081     11  \n",
       "17 105       436 1,973     17  \n",
       "18 106       195 5,071     12  \n",
       "19 107       240 3,448     26  \n",
       "20 108       136 1,598      4  "
      ]
     },
     "metadata": {},
     "output_type": "display_data"
    }
   ],
   "source": [
    "test"
   ]
  },
  {
   "cell_type": "code",
   "execution_count": null,
   "metadata": {},
   "outputs": [],
   "source": []
  },
  {
   "cell_type": "code",
   "execution_count": null,
   "metadata": {},
   "outputs": [],
   "source": []
  },
  {
   "cell_type": "code",
   "execution_count": null,
   "metadata": {},
   "outputs": [],
   "source": []
  }
 ],
 "metadata": {
  "kernelspec": {
   "display_name": "R",
   "language": "R",
   "name": "ir"
  },
  "language_info": {
   "codemirror_mode": "r",
   "file_extension": ".r",
   "mimetype": "text/x-r-source",
   "name": "R",
   "pygments_lexer": "r",
   "version": "4.0.2"
  }
 },
 "nbformat": 4,
 "nbformat_minor": 4
}
