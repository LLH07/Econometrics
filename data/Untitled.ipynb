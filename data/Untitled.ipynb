{
 "cells": [
  {
   "cell_type": "code",
   "execution_count": 3,
   "metadata": {},
   "outputs": [],
   "source": [
    "test = read.csv(\"89-108 年台中槍砲彈藥刀持有統計.csv\")"
   ]
  },
  {
   "cell_type": "code",
   "execution_count": 7,
   "metadata": {
    "scrolled": true
   },
   "outputs": [
    {
     "data": {
      "text/html": [
       "<table>\n",
       "<caption>A data.frame: 20 × 4</caption>\n",
       "<thead>\n",
       "\t<tr><th scope=col>嚜燕eriod</th><th scope=col>gun</th><th scope=col>gun.shot</th><th scope=col>knife</th></tr>\n",
       "\t<tr><th scope=col>&lt;int&gt;</th><th scope=col>&lt;int&gt;</th><th scope=col>&lt;chr&gt;</th><th scope=col>&lt;int&gt;</th></tr>\n",
       "</thead>\n",
       "<tbody>\n",
       "\t<tr><td> 89</td><td>274</td><td>2,604 </td><td> 78</td></tr>\n",
       "\t<tr><td> 90</td><td>338</td><td>4,212 </td><td> 64</td></tr>\n",
       "\t<tr><td> 91</td><td>345</td><td>2,823 </td><td> 32</td></tr>\n",
       "\t<tr><td> 92</td><td>370</td><td>4,044 </td><td>117</td></tr>\n",
       "\t<tr><td> 93</td><td>427</td><td>11,295</td><td> 67</td></tr>\n",
       "\t<tr><td> 94</td><td>374</td><td>2,600 </td><td>102</td></tr>\n",
       "\t<tr><td> 95</td><td>316</td><td>3,770 </td><td> 37</td></tr>\n",
       "\t<tr><td> 96</td><td>286</td><td>1,921 </td><td> 41</td></tr>\n",
       "\t<tr><td> 97</td><td>247</td><td>1,935 </td><td> 14</td></tr>\n",
       "\t<tr><td> 98</td><td>185</td><td>1,823 </td><td> 56</td></tr>\n",
       "\t<tr><td> 99</td><td>171</td><td>2,268 </td><td> 16</td></tr>\n",
       "\t<tr><td>100</td><td>167</td><td>1,456 </td><td> 25</td></tr>\n",
       "\t<tr><td>101</td><td>147</td><td>1,250 </td><td>  9</td></tr>\n",
       "\t<tr><td>102</td><td>157</td><td>1,726 </td><td> 11</td></tr>\n",
       "\t<tr><td>103</td><td>256</td><td>2,351 </td><td> 16</td></tr>\n",
       "\t<tr><td>104</td><td>196</td><td>3,081 </td><td> 11</td></tr>\n",
       "\t<tr><td>105</td><td>436</td><td>1,973 </td><td> 17</td></tr>\n",
       "\t<tr><td>106</td><td>195</td><td>5,071 </td><td> 12</td></tr>\n",
       "\t<tr><td>107</td><td>240</td><td>3,448 </td><td> 26</td></tr>\n",
       "\t<tr><td>108</td><td>136</td><td>1,598 </td><td>  4</td></tr>\n",
       "</tbody>\n",
       "</table>\n"
      ],
      "text/latex": [
       "A data.frame: 20 × 4\n",
       "\\begin{tabular}{llll}\n",
       " 嚜燕eriod & gun & gun.shot & knife\\\\\n",
       " <int> & <int> & <chr> & <int>\\\\\n",
       "\\hline\n",
       "\t  89 & 274 & 2,604  &  78\\\\\n",
       "\t  90 & 338 & 4,212  &  64\\\\\n",
       "\t  91 & 345 & 2,823  &  32\\\\\n",
       "\t  92 & 370 & 4,044  & 117\\\\\n",
       "\t  93 & 427 & 11,295 &  67\\\\\n",
       "\t  94 & 374 & 2,600  & 102\\\\\n",
       "\t  95 & 316 & 3,770  &  37\\\\\n",
       "\t  96 & 286 & 1,921  &  41\\\\\n",
       "\t  97 & 247 & 1,935  &  14\\\\\n",
       "\t  98 & 185 & 1,823  &  56\\\\\n",
       "\t  99 & 171 & 2,268  &  16\\\\\n",
       "\t 100 & 167 & 1,456  &  25\\\\\n",
       "\t 101 & 147 & 1,250  &   9\\\\\n",
       "\t 102 & 157 & 1,726  &  11\\\\\n",
       "\t 103 & 256 & 2,351  &  16\\\\\n",
       "\t 104 & 196 & 3,081  &  11\\\\\n",
       "\t 105 & 436 & 1,973  &  17\\\\\n",
       "\t 106 & 195 & 5,071  &  12\\\\\n",
       "\t 107 & 240 & 3,448  &  26\\\\\n",
       "\t 108 & 136 & 1,598  &   4\\\\\n",
       "\\end{tabular}\n"
      ],
      "text/markdown": [
       "\n",
       "A data.frame: 20 × 4\n",
       "\n",
       "| 嚜燕eriod &lt;int&gt; | gun &lt;int&gt; | gun.shot &lt;chr&gt; | knife &lt;int&gt; |\n",
       "|---|---|---|---|\n",
       "|  89 | 274 | 2,604  |  78 |\n",
       "|  90 | 338 | 4,212  |  64 |\n",
       "|  91 | 345 | 2,823  |  32 |\n",
       "|  92 | 370 | 4,044  | 117 |\n",
       "|  93 | 427 | 11,295 |  67 |\n",
       "|  94 | 374 | 2,600  | 102 |\n",
       "|  95 | 316 | 3,770  |  37 |\n",
       "|  96 | 286 | 1,921  |  41 |\n",
       "|  97 | 247 | 1,935  |  14 |\n",
       "|  98 | 185 | 1,823  |  56 |\n",
       "|  99 | 171 | 2,268  |  16 |\n",
       "| 100 | 167 | 1,456  |  25 |\n",
       "| 101 | 147 | 1,250  |   9 |\n",
       "| 102 | 157 | 1,726  |  11 |\n",
       "| 103 | 256 | 2,351  |  16 |\n",
       "| 104 | 196 | 3,081  |  11 |\n",
       "| 105 | 436 | 1,973  |  17 |\n",
       "| 106 | 195 | 5,071  |  12 |\n",
       "| 107 | 240 | 3,448  |  26 |\n",
       "| 108 | 136 | 1,598  |   4 |\n",
       "\n"
      ],
      "text/plain": [
       "   嚜燕eriod gun gun.shot knife\n",
       "1   89       274 2,604     78  \n",
       "2   90       338 4,212     64  \n",
       "3   91       345 2,823     32  \n",
       "4   92       370 4,044    117  \n",
       "5   93       427 11,295    67  \n",
       "6   94       374 2,600    102  \n",
       "7   95       316 3,770     37  \n",
       "8   96       286 1,921     41  \n",
       "9   97       247 1,935     14  \n",
       "10  98       185 1,823     56  \n",
       "11  99       171 2,268     16  \n",
       "12 100       167 1,456     25  \n",
       "13 101       147 1,250      9  \n",
       "14 102       157 1,726     11  \n",
       "15 103       256 2,351     16  \n",
       "16 104       196 3,081     11  \n",
       "17 105       436 1,973     17  \n",
       "18 106       195 5,071     12  \n",
       "19 107       240 3,448     26  \n",
       "20 108       136 1,598      4  "
      ]
     },
     "metadata": {},
     "output_type": "display_data"
    }
   ],
   "source": [
    "test"
   ]
  },
  {
   "cell_type": "code",
   "execution_count": 8,
   "metadata": {},
   "outputs": [],
   "source": [
    "test2 = read.csv(\"89-108 年台中刑案發生總數.csv\")"
   ]
  },
  {
   "cell_type": "code",
   "execution_count": 9,
   "metadata": {},
   "outputs": [
    {
     "data": {
      "text/html": [
       "<table>\n",
       "<caption>A data.frame: 21 × 5</caption>\n",
       "<thead>\n",
       "\t<tr><th scope=col>刑案總數概況</th><th scope=col>X</th><th scope=col>X.1</th><th scope=col>X.2</th><th scope=col>X.3</th></tr>\n",
       "\t<tr><th scope=col>&lt;chr&gt;</th><th scope=col>&lt;chr&gt;</th><th scope=col>&lt;lgl&gt;</th><th scope=col>&lt;lgl&gt;</th><th scope=col>&lt;lgl&gt;</th></tr>\n",
       "</thead>\n",
       "<tbody>\n",
       "\t<tr><td>刑案總數概況</td><td>發生數(件) / 臺中市 </td><td>NA</td><td>NA</td><td>NA</td></tr>\n",
       "\t<tr><td>89年        </td><td>59,317              </td><td>NA</td><td>NA</td><td>NA</td></tr>\n",
       "\t<tr><td>90年        </td><td>70,794              </td><td>NA</td><td>NA</td><td>NA</td></tr>\n",
       "\t<tr><td>91年        </td><td>74,695              </td><td>NA</td><td>NA</td><td>NA</td></tr>\n",
       "\t<tr><td>92年        </td><td>72,466              </td><td>NA</td><td>NA</td><td>NA</td></tr>\n",
       "\t<tr><td>93年        </td><td>78,216              </td><td>NA</td><td>NA</td><td>NA</td></tr>\n",
       "\t<tr><td>94年        </td><td>79,807              </td><td>NA</td><td>NA</td><td>NA</td></tr>\n",
       "\t<tr><td>95年        </td><td>71,035              </td><td>NA</td><td>NA</td><td>NA</td></tr>\n",
       "\t<tr><td>96年        </td><td>66,048              </td><td>NA</td><td>NA</td><td>NA</td></tr>\n",
       "\t<tr><td>97年        </td><td>51,593              </td><td>NA</td><td>NA</td><td>NA</td></tr>\n",
       "\t<tr><td>98年        </td><td>35,931              </td><td>NA</td><td>NA</td><td>NA</td></tr>\n",
       "\t<tr><td>99年        </td><td>32,078              </td><td>NA</td><td>NA</td><td>NA</td></tr>\n",
       "\t<tr><td>100年       </td><td>29,170              </td><td>NA</td><td>NA</td><td>NA</td></tr>\n",
       "\t<tr><td>101年       </td><td>28,533              </td><td>NA</td><td>NA</td><td>NA</td></tr>\n",
       "\t<tr><td>102年       </td><td>28,252              </td><td>NA</td><td>NA</td><td>NA</td></tr>\n",
       "\t<tr><td>103年       </td><td>28,512              </td><td>NA</td><td>NA</td><td>NA</td></tr>\n",
       "\t<tr><td>104年       </td><td>27,888              </td><td>NA</td><td>NA</td><td>NA</td></tr>\n",
       "\t<tr><td>105年       </td><td>27,475              </td><td>NA</td><td>NA</td><td>NA</td></tr>\n",
       "\t<tr><td>106年       </td><td>26,741              </td><td>NA</td><td>NA</td><td>NA</td></tr>\n",
       "\t<tr><td>107年       </td><td>25,496              </td><td>NA</td><td>NA</td><td>NA</td></tr>\n",
       "\t<tr><td>108年       </td><td>24,670              </td><td>NA</td><td>NA</td><td>NA</td></tr>\n",
       "</tbody>\n",
       "</table>\n"
      ],
      "text/latex": [
       "A data.frame: 21 × 5\n",
       "\\begin{tabular}{lllll}\n",
       " 刑案總數概況 & X & X.1 & X.2 & X.3\\\\\n",
       " <chr> & <chr> & <lgl> & <lgl> & <lgl>\\\\\n",
       "\\hline\n",
       "\t 刑案總數概況 & 發生數(件) / 臺中市  & NA & NA & NA\\\\\n",
       "\t 89年         & 59,317               & NA & NA & NA\\\\\n",
       "\t 90年         & 70,794               & NA & NA & NA\\\\\n",
       "\t 91年         & 74,695               & NA & NA & NA\\\\\n",
       "\t 92年         & 72,466               & NA & NA & NA\\\\\n",
       "\t 93年         & 78,216               & NA & NA & NA\\\\\n",
       "\t 94年         & 79,807               & NA & NA & NA\\\\\n",
       "\t 95年         & 71,035               & NA & NA & NA\\\\\n",
       "\t 96年         & 66,048               & NA & NA & NA\\\\\n",
       "\t 97年         & 51,593               & NA & NA & NA\\\\\n",
       "\t 98年         & 35,931               & NA & NA & NA\\\\\n",
       "\t 99年         & 32,078               & NA & NA & NA\\\\\n",
       "\t 100年        & 29,170               & NA & NA & NA\\\\\n",
       "\t 101年        & 28,533               & NA & NA & NA\\\\\n",
       "\t 102年        & 28,252               & NA & NA & NA\\\\\n",
       "\t 103年        & 28,512               & NA & NA & NA\\\\\n",
       "\t 104年        & 27,888               & NA & NA & NA\\\\\n",
       "\t 105年        & 27,475               & NA & NA & NA\\\\\n",
       "\t 106年        & 26,741               & NA & NA & NA\\\\\n",
       "\t 107年        & 25,496               & NA & NA & NA\\\\\n",
       "\t 108年        & 24,670               & NA & NA & NA\\\\\n",
       "\\end{tabular}\n"
      ],
      "text/markdown": [
       "\n",
       "A data.frame: 21 × 5\n",
       "\n",
       "| 刑案總數概況 &lt;chr&gt; | X &lt;chr&gt; | X.1 &lt;lgl&gt; | X.2 &lt;lgl&gt; | X.3 &lt;lgl&gt; |\n",
       "|---|---|---|---|---|\n",
       "| 刑案總數概況 | 發生數(件) / 臺中市  | NA | NA | NA |\n",
       "| 89年         | 59,317               | NA | NA | NA |\n",
       "| 90年         | 70,794               | NA | NA | NA |\n",
       "| 91年         | 74,695               | NA | NA | NA |\n",
       "| 92年         | 72,466               | NA | NA | NA |\n",
       "| 93年         | 78,216               | NA | NA | NA |\n",
       "| 94年         | 79,807               | NA | NA | NA |\n",
       "| 95年         | 71,035               | NA | NA | NA |\n",
       "| 96年         | 66,048               | NA | NA | NA |\n",
       "| 97年         | 51,593               | NA | NA | NA |\n",
       "| 98年         | 35,931               | NA | NA | NA |\n",
       "| 99年         | 32,078               | NA | NA | NA |\n",
       "| 100年        | 29,170               | NA | NA | NA |\n",
       "| 101年        | 28,533               | NA | NA | NA |\n",
       "| 102年        | 28,252               | NA | NA | NA |\n",
       "| 103年        | 28,512               | NA | NA | NA |\n",
       "| 104年        | 27,888               | NA | NA | NA |\n",
       "| 105年        | 27,475               | NA | NA | NA |\n",
       "| 106年        | 26,741               | NA | NA | NA |\n",
       "| 107年        | 25,496               | NA | NA | NA |\n",
       "| 108年        | 24,670               | NA | NA | NA |\n",
       "\n"
      ],
      "text/plain": [
       "   刑案總數概況 X                    X.1 X.2 X.3\n",
       "1  刑案總數概況 發生數(件) / 臺中市  NA  NA  NA \n",
       "2  89年         59,317               NA  NA  NA \n",
       "3  90年         70,794               NA  NA  NA \n",
       "4  91年         74,695               NA  NA  NA \n",
       "5  92年         72,466               NA  NA  NA \n",
       "6  93年         78,216               NA  NA  NA \n",
       "7  94年         79,807               NA  NA  NA \n",
       "8  95年         71,035               NA  NA  NA \n",
       "9  96年         66,048               NA  NA  NA \n",
       "10 97年         51,593               NA  NA  NA \n",
       "11 98年         35,931               NA  NA  NA \n",
       "12 99年         32,078               NA  NA  NA \n",
       "13 100年        29,170               NA  NA  NA \n",
       "14 101年        28,533               NA  NA  NA \n",
       "15 102年        28,252               NA  NA  NA \n",
       "16 103年        28,512               NA  NA  NA \n",
       "17 104年        27,888               NA  NA  NA \n",
       "18 105年        27,475               NA  NA  NA \n",
       "19 106年        26,741               NA  NA  NA \n",
       "20 107年        25,496               NA  NA  NA \n",
       "21 108年        24,670               NA  NA  NA "
      ]
     },
     "metadata": {},
     "output_type": "display_data"
    }
   ],
   "source": [
    "test2"
   ]
  },
  {
   "cell_type": "code",
   "execution_count": null,
   "metadata": {},
   "outputs": [],
   "source": []
  },
  {
   "cell_type": "code",
   "execution_count": 10,
   "metadata": {},
   "outputs": [
    {
     "name": "stdout",
     "output_type": "stream",
     "text": [
      "[1]  89 108\n"
     ]
    }
   ],
   "source": [
    "print(c(89, 108))"
   ]
  },
  {
   "cell_type": "code",
   "execution_count": null,
   "metadata": {},
   "outputs": [],
   "source": []
  }
 ],
 "metadata": {
  "kernelspec": {
   "display_name": "R",
   "language": "R",
   "name": "ir"
  },
  "language_info": {
   "codemirror_mode": "r",
   "file_extension": ".r",
   "mimetype": "text/x-r-source",
   "name": "R",
   "pygments_lexer": "r",
   "version": "4.0.2"
  }
 },
 "nbformat": 4,
 "nbformat_minor": 4
}
